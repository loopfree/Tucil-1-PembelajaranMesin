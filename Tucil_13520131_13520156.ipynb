{
 "cells": [
  {
   "cell_type": "markdown",
   "metadata": {
    "id": "CEjELPFBW9WP"
   },
   "source": [
    "# Tugas Kecil IF3270: Eksplorasi library Algoritme Pembelajaran pada Jupyter Notebook\n",
    "\n",
    "Oleh:\n",
    "\n",
    "| Nama  | NIM  | \n",
    "| :------------ |:---------------:|\n",
    "| Steven      | 13520131 |\n",
    "| Dimas Faidh Muzaki      | 13520156        |\n"
   ]
  },
  {
   "cell_type": "markdown",
   "metadata": {
    "id": "BfHtz5urX6iO"
   },
   "source": [
    "## 1. Membaca dataset dan membagi dataset"
   ]
  },
  {
   "cell_type": "code",
   "execution_count": 30,
   "metadata": {
    "colab": {
     "base_uri": "https://localhost:8080/"
    },
    "id": "oKefca8fII8d",
    "outputId": "4b046948-d2ac-49ac-a31b-ac2f6a077388"
   },
   "outputs": [
    {
     "name": "stdout",
     "output_type": "stream",
     "text": [
      "['mean radius' 'mean texture' 'mean perimeter' 'mean area'\n",
      " 'mean smoothness' 'mean compactness' 'mean concavity'\n",
      " 'mean concave points' 'mean symmetry' 'mean fractal dimension'\n",
      " 'radius error' 'texture error' 'perimeter error' 'area error'\n",
      " 'smoothness error' 'compactness error' 'concavity error'\n",
      " 'concave points error' 'symmetry error' 'fractal dimension error'\n",
      " 'worst radius' 'worst texture' 'worst perimeter' 'worst area'\n",
      " 'worst smoothness' 'worst compactness' 'worst concavity'\n",
      " 'worst concave points' 'worst symmetry' 'worst fractal dimension']\n"
     ]
    }
   ],
   "source": [
    "from sklearn import datasets, model_selection\n",
    "\n",
    "breast_cancer = datasets.load_breast_cancer()\n",
    "X, y = breast_cancer.data, breast_cancer.target\n",
    "X_train, X_test, y_train, y_test = model_selection.train_test_split(X, y, test_size=0.20, random_state=0)\n",
    "print(breast_cancer.feature_names)"
   ]
  },
  {
   "cell_type": "markdown",
   "metadata": {
    "id": "qM0pxCzE4lKt"
   },
   "source": [
    "## 2. Pembelajaran Mesin dengan berbagai algoritma"
   ]
  },
  {
   "cell_type": "code",
   "execution_count": 31,
   "metadata": {
    "id": "l8Mpccph4p73"
   },
   "outputs": [],
   "source": [
    "algorithms = ['Decision Tree', 'Id3Estimator', 'Kmeans', 'Logistic Regression', 'Neural Network' ,'SVM']\n",
    "accuracies = []\n",
    "precisions = []\n",
    "recalls = []\n",
    "f1s = []"
   ]
  },
  {
   "cell_type": "markdown",
   "metadata": {
    "id": "hlY4MoSUV-q1"
   },
   "source": [
    "## 2.a. Decision Tree Classifier"
   ]
  },
  {
   "cell_type": "code",
   "execution_count": 32,
   "metadata": {
    "colab": {
     "base_uri": "https://localhost:8080/"
    },
    "id": "r4zM4-F5Nytc",
    "outputId": "a2e7be64-49b6-45a2-de28-8ebb52b0be90"
   },
   "outputs": [
    {
     "name": "stdout",
     "output_type": "stream",
     "text": [
      "|--- feature_27 <= 0.14\n",
      "|   |--- feature_23 <= 957.45\n",
      "|   |   |--- feature_22 <= 107.75\n",
      "|   |   |   |--- feature_29 <= 0.06\n",
      "|   |   |   |   |--- class: 0\n",
      "|   |   |   |--- feature_29 >  0.06\n",
      "|   |   |   |   |--- feature_6 <= 0.14\n",
      "|   |   |   |   |   |--- feature_13 <= 48.98\n",
      "|   |   |   |   |   |   |--- feature_14 <= 0.00\n",
      "|   |   |   |   |   |   |   |--- feature_27 <= 0.10\n",
      "|   |   |   |   |   |   |   |   |--- class: 1\n",
      "|   |   |   |   |   |   |   |--- feature_27 >  0.10\n",
      "|   |   |   |   |   |   |   |   |--- class: 0\n",
      "|   |   |   |   |   |   |--- feature_14 >  0.00\n",
      "|   |   |   |   |   |   |   |--- feature_21 <= 32.83\n",
      "|   |   |   |   |   |   |   |   |--- class: 1\n",
      "|   |   |   |   |   |   |   |--- feature_21 >  32.83\n",
      "|   |   |   |   |   |   |   |   |--- feature_21 <= 33.81\n",
      "|   |   |   |   |   |   |   |   |   |--- class: 0\n",
      "|   |   |   |   |   |   |   |   |--- feature_21 >  33.81\n",
      "|   |   |   |   |   |   |   |   |   |--- class: 1\n",
      "|   |   |   |   |   |--- feature_13 >  48.98\n",
      "|   |   |   |   |   |   |--- feature_16 <= 0.02\n",
      "|   |   |   |   |   |   |   |--- class: 0\n",
      "|   |   |   |   |   |   |--- feature_16 >  0.02\n",
      "|   |   |   |   |   |   |   |--- class: 1\n",
      "|   |   |   |   |--- feature_6 >  0.14\n",
      "|   |   |   |   |   |--- feature_6 <= 0.15\n",
      "|   |   |   |   |   |   |--- class: 0\n",
      "|   |   |   |   |   |--- feature_6 >  0.15\n",
      "|   |   |   |   |   |   |--- class: 1\n",
      "|   |   |--- feature_22 >  107.75\n",
      "|   |   |   |--- feature_0 <= 14.08\n",
      "|   |   |   |   |--- class: 0\n",
      "|   |   |   |--- feature_0 >  14.08\n",
      "|   |   |   |   |--- feature_18 <= 0.02\n",
      "|   |   |   |   |   |--- class: 1\n",
      "|   |   |   |   |--- feature_18 >  0.02\n",
      "|   |   |   |   |   |--- class: 0\n",
      "|   |--- feature_23 >  957.45\n",
      "|   |   |--- feature_8 <= 0.15\n",
      "|   |   |   |--- class: 1\n",
      "|   |   |--- feature_8 >  0.15\n",
      "|   |   |   |--- class: 0\n",
      "|--- feature_27 >  0.14\n",
      "|   |--- feature_23 <= 729.55\n",
      "|   |   |--- feature_4 <= 0.11\n",
      "|   |   |   |--- class: 1\n",
      "|   |   |--- feature_4 >  0.11\n",
      "|   |   |   |--- class: 0\n",
      "|   |--- feature_23 >  729.55\n",
      "|   |   |--- feature_12 <= 1.24\n",
      "|   |   |   |--- class: 1\n",
      "|   |   |--- feature_12 >  1.24\n",
      "|   |   |   |--- feature_26 <= 0.20\n",
      "|   |   |   |   |--- class: 1\n",
      "|   |   |   |--- feature_26 >  0.20\n",
      "|   |   |   |   |--- feature_10 <= 0.24\n",
      "|   |   |   |   |   |--- feature_9 <= 0.06\n",
      "|   |   |   |   |   |   |--- class: 1\n",
      "|   |   |   |   |   |--- feature_9 >  0.06\n",
      "|   |   |   |   |   |   |--- class: 0\n",
      "|   |   |   |   |--- feature_10 >  0.24\n",
      "|   |   |   |   |   |--- class: 0\n",
      "\n"
     ]
    }
   ],
   "source": [
    "from sklearn import tree\n",
    "\n",
    "decision_tree = tree.DecisionTreeClassifier()\n",
    "decision_tree = decision_tree.fit(X_train, y_train)\n",
    "\n",
    "r = tree.export_text(decision_tree)\n",
    "print(r)"
   ]
  },
  {
   "cell_type": "code",
   "execution_count": 33,
   "metadata": {
    "id": "8BXg7Zqdit_K"
   },
   "outputs": [],
   "source": [
    "import pickle\n",
    "pickle.dump(decision_tree, open('decision_tree_classification.sav', 'wb'))"
   ]
  },
  {
   "cell_type": "code",
   "execution_count": 34,
   "metadata": {
    "colab": {
     "base_uri": "https://localhost:8080/"
    },
    "id": "tRufb0CfirCj",
    "outputId": "30ce5c4a-2d58-48bd-9edd-b87b85d2fbd9"
   },
   "outputs": [
    {
     "name": "stdout",
     "output_type": "stream",
     "text": [
      "Hasil evaluasi prediksi pada training DecisionTreeClassifier adalah sebagai berikut:\n",
      "Accuracy      : 0.9122807017543859\n",
      "Precision     : 0.9672131147540983\n",
      "Recall        : 0.8805970149253731\n",
      "F1-score      : 0.9218749999999999\n",
      "\n",
      "Confusion matrix yang terbentuk:\n",
      " [[45  2]\n",
      " [ 8 59]]\n"
     ]
    }
   ],
   "source": [
    "from sklearn.metrics import accuracy_score,precision_score, recall_score, f1_score, confusion_matrix\n",
    "loaded_decision_tree = pickle.load(open('decision_tree_classification.sav', 'rb'))\n",
    "\n",
    "y_pred = loaded_decision_tree.predict(X_test);\n",
    "\n",
    "# 1. Metrix Accuracy\n",
    "acc = accuracy_score(y_test, y_pred)\n",
    "accuracies.append(acc)\n",
    "\n",
    "# 2. Metric Precision\n",
    "prec = precision_score(y_test, y_pred)\n",
    "precisions.append(prec)\n",
    "\n",
    "# 3. Metric Recall\n",
    "rec = recall_score(y_test, y_pred)\n",
    "recalls.append(rec)\n",
    "\n",
    "# 4. Metric F1\n",
    "f1 = f1_score(y_test, y_pred)\n",
    "f1s.append(f1)\n",
    "\n",
    "# 5. Confusion Matrix\n",
    "cm = confusion_matrix(y_test, y_pred)\n",
    "\n",
    "print(\"Hasil evaluasi prediksi pada training DecisionTreeClassifier adalah sebagai berikut:\")\n",
    "print(\"Accuracy      :\", acc)\n",
    "print(\"Precision     :\", prec)\n",
    "print(\"Recall        :\", rec)\n",
    "print(\"F1-score      :\", f1)\n",
    "print()\n",
    "print(\"Confusion matrix yang terbentuk:\\n\", cm)"
   ]
  },
  {
   "cell_type": "markdown",
   "metadata": {
    "id": "u8WRYEAfZJ52"
   },
   "source": [
    "## 2.b. Id3Estimator"
   ]
  },
  {
   "cell_type": "code",
   "execution_count": 35,
   "metadata": {
    "id": "A1RLsFuYZH95"
   },
   "outputs": [],
   "source": [
    "# Initialization\n",
    "from sklearn.tree import DecisionTreeClassifier as Id3Estimator\n",
    "import pickle\n",
    "from sklearn.metrics import accuracy_score, precision_score, recall_score, f1_score, confusion_matrix\n",
    "from sklearn import datasets, model_selection"
   ]
  },
  {
   "cell_type": "code",
   "execution_count": 36,
   "metadata": {
    "colab": {
     "base_uri": "https://localhost:8080/"
    },
    "id": "kNTrB14jaHem",
    "outputId": "835dd0a7-6251-44b4-d543-b39105619105"
   },
   "outputs": [
    {
     "data": {
      "text/plain": [
       "DecisionTreeClassifier()"
      ]
     },
     "execution_count": 36,
     "metadata": {},
     "output_type": "execute_result"
    }
   ],
   "source": [
    "# Training\n",
    "classifier = Id3Estimator()\n",
    "classifier.fit(X_train, y_train)"
   ]
  },
  {
   "cell_type": "code",
   "execution_count": 37,
   "metadata": {
    "id": "9qk1d3HXasDo"
   },
   "outputs": [],
   "source": [
    "# Saving Model\n",
    "with open('classifier.pickle', 'wb') as model:\n",
    "  pickle.dump(classifier, model)"
   ]
  },
  {
   "cell_type": "code",
   "execution_count": 38,
   "metadata": {
    "colab": {
     "base_uri": "https://localhost:8080/"
    },
    "id": "2Km1Xk0QilQ7",
    "outputId": "8880c3bb-0de1-469d-cc9a-33e0952041a0"
   },
   "outputs": [
    {
     "name": "stdout",
     "output_type": "stream",
     "text": [
      "Hasil evaluasi prediksi pada training Id3Estimator adalah sebagai berikut:\n",
      "Accuracy      : 0.9035087719298246\n",
      "Precision     : 0.9516129032258065\n",
      "Recall        : 0.8805970149253731\n",
      "F1-score      : 0.9147286821705426\n",
      "\n",
      "Confusion matrix yang terbentuk:\n",
      " [[44  3]\n",
      " [ 8 59]]\n"
     ]
    }
   ],
   "source": [
    "# Load model\n",
    "with open('classifier.pickle', 'rb') as model:\n",
    "  classifier = pickle.load(model)\n",
    "\n",
    "# Evaluasi hasil prediksi\n",
    "y_pred = classifier.predict(X_test)\n",
    "\n",
    "# 1. Metrix Accuracy\n",
    "acc = accuracy_score(y_test, y_pred)\n",
    "accuracies.append(acc)\n",
    "\n",
    "# 2. Metric Precision\n",
    "prec = precision_score(y_test, y_pred)\n",
    "precisions.append(prec)\n",
    "\n",
    "# 3. Metric Recall\n",
    "rec = recall_score(y_test, y_pred)\n",
    "recalls.append(rec)\n",
    "\n",
    "# 4. Metric F1\n",
    "f1 = f1_score(y_test, y_pred)\n",
    "f1s.append(f1)\n",
    "\n",
    "# 5. Confusion Matrix\n",
    "cm = confusion_matrix(y_test, y_pred)\n",
    "\n",
    "print(\"Hasil evaluasi prediksi pada training Id3Estimator adalah sebagai berikut:\")\n",
    "print(\"Accuracy      :\", acc)\n",
    "print(\"Precision     :\", prec)\n",
    "print(\"Recall        :\", rec)\n",
    "print(\"F1-score      :\", f1)\n",
    "print()\n",
    "print(\"Confusion matrix yang terbentuk:\\n\", cm)"
   ]
  },
  {
   "cell_type": "markdown",
   "metadata": {
    "id": "zzXQhKmKdtz_"
   },
   "source": [
    "## 2.c. K Means"
   ]
  },
  {
   "cell_type": "code",
   "execution_count": 39,
   "metadata": {
    "id": "18W4LqWud153"
   },
   "outputs": [],
   "source": [
    "from sklearn.cluster import KMeans\n",
    "\n",
    "kmeans = KMeans(random_state=0,n_clusters=2)\n",
    "kmeans_predict = kmeans.fit_predict(X_train)\n",
    "kmeans_fit = kmeans.fit(X_train)"
   ]
  },
  {
   "cell_type": "code",
   "execution_count": 40,
   "metadata": {
    "colab": {
     "base_uri": "https://localhost:8080/",
     "height": 265
    },
    "id": "7W1eXgGMw6HH",
    "outputId": "4652551b-d5d6-4b5f-e3cd-f72869eb9041"
   },
   "outputs": [
    {
     "data": {
      "image/png": "[encoded data removed]",
      "text/plain": [
       "<Figure size 432x288 with 1 Axes>"
      ]
     },
     "metadata": {
      "needs_background": "light"
     },
     "output_type": "display_data"
    }
   ],
   "source": [
    "# Visualize\n",
    "import matplotlib.pyplot as plt\n",
    "from sklearn.decomposition import PCA\n",
    "import numpy as np\n",
    "\n",
    "\n",
    "#Load Data\n",
    "data = X_train\n",
    "pca = PCA(2)\n",
    " \n",
    "#Transform the data\n",
    "df = pca.fit_transform(data)\n",
    "\n",
    "#Getting unique labels\n",
    " \n",
    "u_labels = np.unique(kmeans_predict)\n",
    " \n",
    "#plotting the results:\n",
    " \n",
    "for i in u_labels:\n",
    "    plt.scatter(df[kmeans_predict == i , 0] , df[kmeans_predict == i , 1] , label = i)\n",
    "plt.legend()\n",
    "plt.show()"
   ]
  },
  {
   "cell_type": "code",
   "execution_count": 41,
   "metadata": {
    "id": "Nvztsfw6znoT"
   },
   "outputs": [],
   "source": [
    "import pickle\n",
    "pickle.dump(kmeans_fit, open('kmeans.sav', 'wb'))"
   ]
  },
  {
   "cell_type": "code",
   "execution_count": 42,
   "metadata": {
    "colab": {
     "base_uri": "https://localhost:8080/"
    },
    "id": "cGSLQ-SLzvkK",
    "outputId": "ebc84cb8-9e5d-47dd-c1a6-4c6a92a32656"
   },
   "outputs": [
    {
     "name": "stdout",
     "output_type": "stream",
     "text": [
      "Hasil evaluasi prediksi pada training Kmeans adalah sebagai berikut:\n",
      "Accuracy      : 0.18421052631578946\n",
      "Precision     : 0.18421052631578946\n",
      "Recall        : 0.18421052631578946\n",
      "F1-score      : 0.18421052631578946\n",
      "\n",
      "Confusion matrix yang terbentuk:\n",
      " [[21 26]\n",
      " [67  0]]\n"
     ]
    }
   ],
   "source": [
    "from sklearn.metrics import accuracy_score,precision_score, recall_score, f1_score, confusion_matrix\n",
    "loaded_kmeans = pickle.load(open('kmeans.sav', 'rb'))\n",
    "y_pred = loaded_kmeans.predict(X_test);\n",
    "\n",
    "# 1. Metrix Accuracy\n",
    "acc = accuracy_score(y_test, y_pred)\n",
    "accuracies.append(acc)\n",
    "\n",
    "# 2. Metric Precision\n",
    "prec = precision_score(y_test, y_pred, average='micro')\n",
    "precisions.append(prec)\n",
    "\n",
    "# 3. Metric Recall\n",
    "rec = recall_score(y_test, y_pred,average='micro')\n",
    "recalls.append(rec)\n",
    "\n",
    "# 4. Metric F1\n",
    "f1 = f1_score(y_test, y_pred,average='micro')\n",
    "f1s.append(f1)\n",
    "\n",
    "# 5. Confusion Matrix\n",
    "cm = confusion_matrix(y_test, y_pred)\n",
    "\n",
    "print(\"Hasil evaluasi prediksi pada training Kmeans adalah sebagai berikut:\")\n",
    "print(\"Accuracy      :\", acc)\n",
    "print(\"Precision     :\", prec)\n",
    "print(\"Recall        :\", rec)\n",
    "print(\"F1-score      :\", f1)\n",
    "print()\n",
    "print(\"Confusion matrix yang terbentuk:\\n\", cm)"
   ]
  },
  {
   "cell_type": "markdown",
   "metadata": {
    "id": "0-kauC06d2o4"
   },
   "source": [
    "## 2.d. Logistic Regression"
   ]
  },
  {
   "cell_type": "code",
   "execution_count": 43,
   "metadata": {
    "id": "ubTmkAUMd6uI"
   },
   "outputs": [],
   "source": [
    "# Initialization\n",
    "from sklearn.linear_model import LogisticRegression"
   ]
  },
  {
   "cell_type": "code",
   "execution_count": 44,
   "metadata": {
    "id": "FFTn72a-fIt1"
   },
   "outputs": [],
   "source": [
    "# Training\n",
    "log_reg_model = LogisticRegression(solver='lbfgs', max_iter=3000).fit(X_train, y_train)"
   ]
  },
  {
   "cell_type": "code",
   "execution_count": 45,
   "metadata": {
    "id": "hP3DjephhWpR"
   },
   "outputs": [],
   "source": [
    "# Saving Model\n",
    "import pickle\n",
    "\n",
    "with open('log_reg_model.pickle', 'wb') as model:\n",
    "  pickle.dump(log_reg_model, model)"
   ]
  },
  {
   "cell_type": "code",
   "execution_count": 46,
   "metadata": {
    "colab": {
     "base_uri": "https://localhost:8080/"
    },
    "id": "sn-VVrbVh0LV",
    "outputId": "0d6a83f8-ba7f-42fc-999c-e2e83e10b82e"
   },
   "outputs": [
    {
     "name": "stdout",
     "output_type": "stream",
     "text": [
      "Hasil evaluasi prediksi pada training Logistic Regression adalah sebagai berikut:\n",
      "Accuracy      : 0.9473684210526315\n",
      "Precision     : 0.9841269841269841\n",
      "Recall        : 0.9253731343283582\n",
      "F1-score      : 0.9538461538461538\n",
      "\n",
      "Confusion matrix yang terbentuk:\n",
      " [[46  1]\n",
      " [ 5 62]]\n"
     ]
    }
   ],
   "source": [
    "# Load model\n",
    "with open('log_reg_model.pickle', 'rb') as model:\n",
    "  loaded_log_reg_model = pickle.load(model)\n",
    "\n",
    "# Evaluasi hasil prediksi\n",
    "y_pred = loaded_log_reg_model.predict(X_test)\n",
    "\n",
    "# 1. Metrix Accuracy\n",
    "acc = accuracy_score(y_test, y_pred)\n",
    "accuracies.append(acc)\n",
    "\n",
    "# 2. Metric Precision\n",
    "prec = precision_score(y_test, y_pred)\n",
    "precisions.append(prec)\n",
    "\n",
    "# 3. Metric Recall\n",
    "rec = recall_score(y_test, y_pred)\n",
    "recalls.append(rec)\n",
    "\n",
    "# 4. Metric F1\n",
    "f1 = f1_score(y_test, y_pred)\n",
    "f1s.append(f1)\n",
    "\n",
    "# 5. Confusion Matrix\n",
    "cm = confusion_matrix(y_test, y_pred)\n",
    "\n",
    "print(\"Hasil evaluasi prediksi pada training Logistic Regression adalah sebagai berikut:\")\n",
    "print(\"Accuracy      :\", acc)\n",
    "print(\"Precision     :\", prec)\n",
    "print(\"Recall        :\", rec)\n",
    "print(\"F1-score      :\", f1)\n",
    "print()\n",
    "print(\"Confusion matrix yang terbentuk:\\n\", cm)"
   ]
  },
  {
   "cell_type": "markdown",
   "metadata": {
    "id": "Hsnw5Df-d7Np"
   },
   "source": [
    "## 2.e. Neural Network"
   ]
  },
  {
   "cell_type": "code",
   "execution_count": 47,
   "metadata": {
    "id": "LnFEHLVjd-Ev"
   },
   "outputs": [],
   "source": [
    "from sklearn.neural_network import MLPClassifier\n",
    "neural_n = MLPClassifier(random_state=0)\n",
    "neural_n = neural_n.fit(X_train, y_train)"
   ]
  },
  {
   "cell_type": "code",
   "execution_count": 48,
   "metadata": {
    "id": "ScXEwuub6eCs"
   },
   "outputs": [],
   "source": [
    "import pickle\n",
    "pickle.dump(neural_n, open('neural_network.sav', 'wb'))\n"
   ]
  },
  {
   "cell_type": "code",
   "execution_count": 49,
   "metadata": {
    "colab": {
     "base_uri": "https://localhost:8080/"
    },
    "id": "1My4iNDl6uo_",
    "outputId": "d9cadf76-dc84-46e6-a5e3-4b38b821636c"
   },
   "outputs": [
    {
     "name": "stdout",
     "output_type": "stream",
     "text": [
      "Hasil evaluasi prediksi pada training Neural Network adalah sebagai berikut:\n",
      "Accuracy      : 0.9473684210526315\n",
      "Precision     : 0.9552238805970149\n",
      "Recall        : 0.9552238805970149\n",
      "F1-score      : 0.9552238805970149\n",
      "\n",
      "Confusion matrix yang terbentuk:\n",
      " [[44  3]\n",
      " [ 3 64]]\n"
     ]
    }
   ],
   "source": [
    "from sklearn.metrics import accuracy_score,precision_score, recall_score, f1_score, confusion_matrix\n",
    "\n",
    "loaded_neural_n = pickle.load(open('neural_network.sav', 'rb'))\n",
    "y_pred = loaded_neural_n.predict(X_test);\n",
    "\n",
    "# 1. Metrix Accuracy\n",
    "acc = accuracy_score(y_test, y_pred)\n",
    "accuracies.append(acc)\n",
    "\n",
    "# 2. Metric Precision\n",
    "prec = precision_score(y_test, y_pred)\n",
    "precisions.append(prec)\n",
    "\n",
    "# 3. Metric Recall\n",
    "rec = recall_score(y_test, y_pred)\n",
    "recalls.append(rec)\n",
    "\n",
    "# 4. Metric F1\n",
    "f1 = f1_score(y_test, y_pred)\n",
    "f1s.append(f1)\n",
    "\n",
    "# 5. Confusion Matrix\n",
    "cm = confusion_matrix(y_test, y_pred)\n",
    "\n",
    "print(\"Hasil evaluasi prediksi pada training Neural Network adalah sebagai berikut:\")\n",
    "print(\"Accuracy      :\", acc)\n",
    "print(\"Precision     :\", prec)\n",
    "print(\"Recall        :\", rec)\n",
    "print(\"F1-score      :\", f1)\n",
    "print()\n",
    "print(\"Confusion matrix yang terbentuk:\\n\", cm)"
   ]
  },
  {
   "cell_type": "markdown",
   "metadata": {
    "id": "A82CPh-dd-qC"
   },
   "source": [
    "## 2.f. SVM"
   ]
  },
  {
   "cell_type": "code",
   "execution_count": 50,
   "metadata": {
    "id": "1181rrkdeAhF"
   },
   "outputs": [],
   "source": [
    "# Initialization\n",
    "from sklearn.svm import SVC"
   ]
  },
  {
   "cell_type": "code",
   "execution_count": 51,
   "metadata": {
    "id": "4RN2pm01kBg5"
   },
   "outputs": [],
   "source": [
    "# Training\n",
    "svm_model = SVC().fit(X_train, y_train)"
   ]
  },
  {
   "cell_type": "code",
   "execution_count": 52,
   "metadata": {
    "id": "gP9_ZI0HkKJC"
   },
   "outputs": [],
   "source": [
    "# Saving Model\n",
    "import pickle\n",
    "\n",
    "with open('svm_model.pickle', 'wb') as model:\n",
    "  pickle.dump(svm_model, model)"
   ]
  },
  {
   "cell_type": "code",
   "execution_count": 53,
   "metadata": {
    "colab": {
     "base_uri": "https://localhost:8080/"
    },
    "id": "C5nu89iPkZcE",
    "outputId": "05e09252-d32b-41e7-eb64-bccb4ebc4100"
   },
   "outputs": [
    {
     "name": "stdout",
     "output_type": "stream",
     "text": [
      "Hasil evaluasi prediksi pada training SVM adalah sebagai berikut:\n",
      "Accuracy      : 0.9298245614035088\n",
      "Precision     : 0.9041095890410958\n",
      "Recall        : 0.9850746268656716\n",
      "F1-score      : 0.9428571428571428\n",
      "\n",
      "Confusion matrix yang terbentuk:\n",
      " [[40  7]\n",
      " [ 1 66]]\n"
     ]
    }
   ],
   "source": [
    "# Load Model\n",
    "with open('svm_model.pickle', 'rb') as model:\n",
    "  loaded_svm_model = pickle.load(model)\n",
    "\n",
    "# Evaluasi hasil prediksi\n",
    "y_pred = loaded_svm_model.predict(X_test)\n",
    "\n",
    "# 1. Metrix Accuracy\n",
    "acc = accuracy_score(y_test, y_pred)\n",
    "accuracies.append(acc)\n",
    "\n",
    "# 2. Metric Precision\n",
    "prec = precision_score(y_test, y_pred)\n",
    "precisions.append(prec)\n",
    "\n",
    "# 3. Metric Recall\n",
    "rec = recall_score(y_test, y_pred)\n",
    "recalls.append(rec)\n",
    "\n",
    "# 4. Metric F1\n",
    "f1 = f1_score(y_test, y_pred)\n",
    "f1s.append(f1)\n",
    "\n",
    "# 5. Confusion Matrix\n",
    "cm = confusion_matrix(y_test, y_pred)\n",
    "\n",
    "print(\"Hasil evaluasi prediksi pada training SVM adalah sebagai berikut:\")\n",
    "print(\"Accuracy      :\", acc)\n",
    "print(\"Precision     :\", prec)\n",
    "print(\"Recall        :\", rec)\n",
    "print(\"F1-score      :\", f1)\n",
    "print()\n",
    "print(\"Confusion matrix yang terbentuk:\\n\", cm)"
   ]
  },
  {
   "cell_type": "markdown",
   "metadata": {
    "id": "x2N9AaLPeQzH"
   },
   "source": [
    "## 3. Evaluasi Metrik"
   ]
  },
  {
   "cell_type": "code",
   "execution_count": 54,
   "metadata": {
    "colab": {
     "base_uri": "https://localhost:8080/"
    },
    "id": "jb3a0YdS3WOE",
    "outputId": "88c426ac-b936-4d7c-8313-852c20814282"
   },
   "outputs": [
    {
     "name": "stdout",
     "output_type": "stream",
     "text": [
      "+---------------------+---------------------+---------------------+---------------------+---------------------+\n",
      "|      Algorithms     |       Accuracy      |      Precision      |        Recall       |          F1         |\n",
      "+---------------------+---------------------+---------------------+---------------------+---------------------+\n",
      "|    Decision Tree    |  0.9122807017543859 |  0.9672131147540983 |  0.8805970149253731 |  0.9218749999999999 |\n",
      "|     Id3Estimator    |  0.9035087719298246 |  0.9516129032258065 |  0.8805970149253731 |  0.9147286821705426 |\n",
      "|        Kmeans       | 0.18421052631578946 | 0.18421052631578946 | 0.18421052631578946 | 0.18421052631578946 |\n",
      "| Logistic Regression |  0.9473684210526315 |  0.9841269841269841 |  0.9253731343283582 |  0.9538461538461538 |\n",
      "|    Neural Network   |  0.9473684210526315 |  0.9552238805970149 |  0.9552238805970149 |  0.9552238805970149 |\n",
      "|         SVM         |  0.9298245614035088 |  0.9041095890410958 |  0.9850746268656716 |  0.9428571428571428 |\n",
      "+---------------------+---------------------+---------------------+---------------------+---------------------+\n"
     ]
    }
   ],
   "source": [
    "# Tabulasi Hasil Metrik\n",
    "from prettytable import PrettyTable\n",
    "A = PrettyTable()\n",
    "A.add_column(\"Algorithms\",algorithms)\n",
    "A.add_column(\"Accuracy\", accuracies)\n",
    "A.add_column(\"Precision\", precisions)\n",
    "A.add_column(\"Recall\", recalls)\n",
    "A.add_column(\"F1\", f1s)\n",
    "print(A)"
   ]
  },
  {
   "cell_type": "markdown",
   "metadata": {
    "id": "MO8RGxItOnFh"
   },
   "source": [
    "Hasil evaluasi prediksi pada training yang dilakukan diukur menggunakan 5 buah pengukuran yaitu accuracy, precision, recall, F1-score, dan confusion matrix. Dengan melihat dari istilah masing-masing, F1-Score dan confusion matrix merupakan 2 buah aspek terbaik yang dapat mengukur overall performance.\n",
    "\n",
    "Dalam kasus ini, digunakan F1-Score, dapat dilihat bahwa Logistic Regression, Neural Network, dan Decision Tree merupakan algoritma yang menghasilkan performa yang baik; Decision Tree dan Id3Estimator merupakan algoritma yang menghasilkan performa yang cukup baik; K Means merupakan algoritma yang menghasilkan performa yang paling buruk, bahkan perbedaannya jauh dengan yang lainnya. Menurut kami, hal ini dikarenakan pembelajaran menggunakan algoritma KMeans merupakan pembelajaran yang bersifat Unsupervised. Oleh sebab, itu hasil peforma model sangat jauh dibandingkan dengan model lain yang tipe pembelajarannya adalah supervised."
   ]
  },
  {
   "cell_type": "markdown",
   "metadata": {
    "id": "oiJfQP9Xe98G"
   },
   "source": [
    "## 4. K-fold Cross Validation pada Model dengan algoritma Decision Tree Classifier"
   ]
  },
  {
   "cell_type": "code",
   "execution_count": 55,
   "metadata": {
    "colab": {
     "base_uri": "https://localhost:8080/"
    },
    "id": "N7H9JDKZe9Oj",
    "outputId": "9bed9c03-0607-48bd-dbd3-ca90c1173530"
   },
   "outputs": [
    {
     "name": "stdout",
     "output_type": "stream",
     "text": [
      "Hasil evaluasi Akurasi dan F1 pada 10-Fold Cross Validation adalah:\n",
      "Accuracy      : 0.9174498746867167\n",
      "F1-Score      : 0.9340736762542807\n"
     ]
    }
   ],
   "source": [
    "from sklearn.tree import DecisionTreeClassifier\n",
    "from sklearn.model_selection import cross_validate\n",
    "\n",
    "decision_tree = DecisionTreeClassifier(random_state=0)\n",
    "\n",
    "k_fold = cross_validate(estimator=decision_tree,\n",
    "                               X=X,\n",
    "                               y=y,\n",
    "                               cv=10,\n",
    "                               scoring=['accuracy', 'precision', 'recall', 'f1'],\n",
    "                               return_train_score=True)\n",
    "print(\"Hasil evaluasi Akurasi dan F1 pada 10-Fold Cross Validation adalah:\")\n",
    "print(\"Accuracy      :\",k_fold['test_accuracy'].mean())\n",
    "print(\"F1-Score      :\",k_fold['test_f1'].mean())"
   ]
  },
  {
   "cell_type": "code",
   "execution_count": 56,
   "metadata": {
    "id": "GJfbHSlalAXs"
   },
   "outputs": [],
   "source": [
    "from sklearn.metrics import accuracy_score, f1_score\n",
    "\n",
    "loaded_decision_tree = pickle.load(open('decision_tree_classification.sav', 'rb'))\n",
    "\n",
    "y_pred = loaded_decision_tree.predict(X_test);\n",
    "\n",
    "# 1. Metric Accuracy\n",
    "acc = accuracy_score(y_test, y_pred)\n",
    "\n",
    "# 2. Metric F1\n",
    "f1 = f1_score(y_test, y_pred)"
   ]
  },
  {
   "cell_type": "code",
   "execution_count": 57,
   "metadata": {
    "colab": {
     "base_uri": "https://localhost:8080/"
    },
    "id": "02Xbd3u2klFL",
    "outputId": "45ed512a-0084-4cc0-a215-305a6f11efc0"
   },
   "outputs": [
    {
     "name": "stdout",
     "output_type": "stream",
     "text": [
      "Perbandingan: \n",
      "+--------------------------------+--------------------+--------------------+\n",
      "|                                |      Accuracy      |      F1-Score      |\n",
      "+--------------------------------+--------------------+--------------------+\n",
      "| Decision Tree Classifier Model | 0.9122807017543859 | 0.9218749999999999 |\n",
      "|       10-Fold Validation       | 0.9174498746867167 | 0.9340736762542807 |\n",
      "+--------------------------------+--------------------+--------------------+\n"
     ]
    }
   ],
   "source": [
    "# Tabulasi Hasil Metrik\n",
    "from prettytable import PrettyTable\n",
    "B = PrettyTable()\n",
    "B.add_column(\"\",[\"Decision Tree Classifier Model\", \"10-Fold Validation\"])\n",
    "B.add_column(\"Accuracy\",[acc, k_fold['test_accuracy'].mean()])\n",
    "B.add_column(\"F1-Score\",[f1, k_fold['test_f1'].mean()])\n",
    "\n",
    "print(\"Perbandingan: \")\n",
    "print(B)"
   ]
  },
  {
   "cell_type": "markdown",
   "metadata": {
    "id": "2sk_q5-UVGDZ"
   },
   "source": [
    "Tabel perbandingan di atas menunjukkan bahwa nilai metrik yang dihasilkan tidak berbeda jauh. Model yang dibangun dengan 10-Fold Cross Validation hanya sedikit lebih baik daripada model Decision Tree sebelumnya."
   ]
  }
 ],
 "metadata": {
  "colab": {
   "provenance": []
  },
  "kernelspec": {
   "display_name": "Python 3 (ipykernel)",
   "language": "python",
   "name": "python3"
  },
  "language_info": {
   "codemirror_mode": {
    "name": "ipython",
    "version": 3
   },
   "file_extension": ".py",
   "mimetype": "text/x-python",
   "name": "python",
   "nbconvert_exporter": "python",
   "pygments_lexer": "ipython3",
   "version": "3.9.7"
  }
 },
 "nbformat": 4,
 "nbformat_minor": 1
}
